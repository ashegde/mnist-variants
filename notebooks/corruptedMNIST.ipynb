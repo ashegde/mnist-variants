{
  "nbformat": 4,
  "nbformat_minor": 0,
  "metadata": {
    "colab": {
      "provenance": []
    },
    "kernelspec": {
      "name": "python3",
      "display_name": "Python 3"
    },
    "language_info": {
      "name": "python"
    }
  },
  "cells": [
    {
      "cell_type": "markdown",
      "source": [
        "In this notebook, we explore the \"Rotated MNIST + background images\" from https://sites.google.com/a/lisa.iro.umontreal.ca/public_static_twiki/variations-on-the-mnist-digits and build a Data Loader to process this into Dataset objects. Note that in an accompanying notebook, we use a similar neural architecture on the classical MNIST dataset and find very good performance. In fact, the training achieves $>95%$ accuracy on a validation batch within the first few hundred iterations (after around just 1 epoch). It appears challenging to achieve similar results on the version of the MNIST dataset used here.\n",
        "\n",
        "A wonderful reference for convolutional arithmetic is __Dumoulin, Vincent, and Francesco Visin. \"A guide to convolution arithmetic for deep learning.\" arXiv preprint arXiv:1603.07285 (2016)__ . One of the basic takeaways is that most of the dimensioning for multivariate tensors can be analyzed by considering single dimensions. This makes accounting for kernel sizes, strides, padding, pooling, etc. more intuitive.  \n"
      ],
      "metadata": {
        "id": "F7OlfKc4eaal"
      }
    },
    {
      "cell_type": "code",
      "source": [
        "import requests\n",
        "import zipfile\n",
        "import matplotlib.pyplot as plt\n",
        "import os\n",
        "\n",
        "import torch\n",
        "from torch import nn\n",
        "import torch.nn.functional as F\n",
        "import argparse\n",
        "from typing import List, Dict, Any"
      ],
      "metadata": {
        "id": "g05caBL_pMqN"
      },
      "execution_count": 1,
      "outputs": []
    },
    {
      "cell_type": "code",
      "source": [
        "class BaseDataset(torch.utils.data.Dataset):\n",
        "\n",
        "  def __init__(self, x,y):\n",
        "    super().__init__()\n",
        "    self.x = x\n",
        "    self.y = y\n",
        "\n",
        "  def __len__(self):\n",
        "    return self.x.shape[0]\n",
        "\n",
        "  def __getitem__(self, index):\n",
        "    'produces a single data point'\n",
        "    xs = self.x[index]\n",
        "    ys = self.y[index]\n",
        "\n",
        "    return xs, ys\n",
        "\n",
        "class MNISTDataModule:\n",
        "  '''\n",
        "  Helper module that downloads, loads, and partitions the MNIST dataset.\n",
        "  '''\n",
        "  url = \"http://www.iro.umontreal.ca/~lisa/icml2007data/\"\n",
        "  filename = \"mnist_rotation_back_image_new.zip\"\n",
        "\n",
        "  def __init__(self, dir, batch_size=32):\n",
        "      self.dir = dir \n",
        "      self.batch_size = batch_size\n",
        "      self.path = self.dir + '/' +self.filename\n",
        "\n",
        "  def download_data(self):\n",
        "    # create directories and download dataset\n",
        "    if not os.path.exists(self.dir):\n",
        "      os.mkdir(self.dir)\n",
        "    if not os.path.exists(self.path):\n",
        "      content = requests.get(self.url + self.filename).content\n",
        "      with open(self.path, \"wb\") as f:\n",
        "        f.write(content)\n",
        "    with zipfile.ZipFile(self.path) as f:\n",
        "      f.extractall(path=self.dir)\n",
        "      \n",
        "  def setup(self):\n",
        "    # load data\n",
        "    with open(self.dir+'/mnist_all_background_images_rotation_normalized_test.amat', 'r') as f1:\n",
        "      ds_te = [[float(a) for a in line.split()] for line in f1]\n",
        "    with open(self.dir+'/mnist_all_background_images_rotation_normalized_train_valid.amat', 'r') as f2:\n",
        "      ds_tr_val = [[float(a) for a in line.split()]  for line in f2]\n",
        "      \n",
        "    ds_te, ds_tr_val = map(torch.tensor, (ds_te, ds_tr_val))\n",
        "\n",
        "    # hardwired 80%-20% split into training and validation\n",
        "    n1 = int(0.8*ds_tr_val.shape[0])\n",
        "\n",
        "    Xtr, Ytr = ds_tr_val[:n1,:-1], ds_tr_val[:n1,-1]\n",
        "    Xval, Yval = ds_tr_val[n1:,:-1], ds_tr_val[n1:,-1]\n",
        "    Xte, Yte = ds_te[:,:-1], ds_te[:,-1]\n",
        "    \n",
        "    self.train_ds = BaseDataset(Xtr, Ytr)\n",
        "    self.valid_ds = BaseDataset(Xval, Yval)\n",
        "    self.test_ds = BaseDataset(Xte, Yte)\n",
        "\n",
        "  def train_dataloader(self):\n",
        "    return torch.utils.data.DataLoader(self.train_ds, batch_size=self.batch_size, shuffle=True)\n",
        "\n",
        "  def val_dataloader(self):\n",
        "    return torch.utils.data.DataLoader(self.valid_ds, batch_size=3*self.batch_size, shuffle=False)"
      ],
      "metadata": {
        "id": "yQnh8UWR-Ey8"
      },
      "execution_count": 2,
      "outputs": []
    },
    {
      "cell_type": "code",
      "source": [
        "torch.manual_seed(42)\n",
        "\n",
        "dir = \"/content/data\"\n",
        "bs = 32\n",
        "dm = MNISTDataModule(dir, batch_size = bs)\n",
        "dm.download_data()"
      ],
      "metadata": {
        "id": "YVwuBXC6pUvw"
      },
      "execution_count": 3,
      "outputs": []
    },
    {
      "cell_type": "code",
      "source": [
        "dm.setup()"
      ],
      "metadata": {
        "id": "pMgWh8DHDXJW"
      },
      "execution_count": 4,
      "outputs": []
    },
    {
      "cell_type": "code",
      "source": [
        "train_dl = dm.train_dataloader()"
      ],
      "metadata": {
        "id": "1cYJx0BQAZvz"
      },
      "execution_count": 5,
      "outputs": []
    },
    {
      "cell_type": "code",
      "source": [
        "#load a batch of data\n",
        "dataiter = iter(train_dl)\n",
        "X,y = dataiter.next()"
      ],
      "metadata": {
        "id": "gaG1WTtHIx36"
      },
      "execution_count": 6,
      "outputs": []
    },
    {
      "cell_type": "code",
      "source": [
        "#verify that the data is normalized\n",
        "print(X.min().item(), X.max().item())"
      ],
      "metadata": {
        "id": "lo1AhnKqIz3B",
        "colab": {
          "base_uri": "https://localhost:8080/"
        },
        "outputId": "458603c7-c66a-44f4-a044-e3b2f7b463d3"
      },
      "execution_count": 7,
      "outputs": [
        {
          "output_type": "stream",
          "name": "stdout",
          "text": [
            "0.0 1.0\n"
          ]
        }
      ]
    },
    {
      "cell_type": "code",
      "source": [
        "## let's look at some data samples\n",
        "\n",
        "fig, ax = plt.subplots(figsize=(15, 5), nrows=2, ncols=5)\n",
        "i = 0\n",
        "for row in ax:\n",
        "    for col in row:\n",
        "        \n",
        "        col.imshow(X[i].reshape(28,28), cmap='Greys')\n",
        "        col.set_title('label = '+str(y[i].item()))\n",
        "        col.set_axis_off()\n",
        "        i+=1\n",
        "\n",
        "plt.show()"
      ],
      "metadata": {
        "id": "fkmq_vTWAukw",
        "colab": {
          "base_uri": "https://localhost:8080/",
          "height": 319
        },
        "outputId": "1e9ddcab-761e-4a6a-af39-61affd201758"
      },
      "execution_count": 8,
      "outputs": [
        {
          "output_type": "display_data",
          "data": {
            "text/plain": [
              "<Figure size 1080x360 with 10 Axes>"
            ],
            "image/png": "[encoded data removed]"
          },
          "metadata": {
            "needs_background": "light"
          }
        }
      ]
    },
    {
      "cell_type": "markdown",
      "source": [
        "The digits appear rotated and flipped/mirrored (both horizontally and vertically). Moreover, the digits have been overlayed on various textured backgrounds. Naturally, these backgrounds are irrelevant to the label. The combination of these corruptions renders some of the digits beyond human recognition. But are they beyond machine recognition?\n",
        "\n",
        "How should we think of this data? Let us suppose the data are random variables $X$ (image) and $Y$ (label) with unknown joint distribution $P_{XY}(x,y)$. We further assume that our training, validation, and test datasets are constructed from i.i.d. samples from $P$. The marginals $P_{X}(x)$, $P_{Y}(y)$ and conditional distributions $P_{X|Y}(x|Y=y)$, $P_{Y|X}(y|X=x)$ describe important information about the dataset. For example,\n",
        "$P(X|Y=y)$ describes the within-class variability in $X$. Presumably, this will be quite high given the differing backgrounds, rotations, and other transformations applied to the associated digit. Alternatively, $P(Y|X=x)$ is basically what we are trying to model in constructing a classifier. "
      ],
      "metadata": {
        "id": "rer_KHdonnTJ"
      }
    },
    {
      "cell_type": "code",
      "source": [
        "#how balanced is this dataset? Approximate P_Y(y).\n",
        "Ytr = dm.train_ds.y\n",
        "label_freqs = torch.zeros(10, dtype=torch.float32)\n",
        "for y in Ytr:\n",
        "    label_freqs[int(y.item())] += 1.0\n",
        "label_freqs *= 1/Ytr.shape[0]\n",
        "plt.bar(range(10), label_freqs)\n",
        "plt.xticks(range(10))\n",
        "plt.title('histogram of labels')\n",
        "plt.show()"
      ],
      "metadata": {
        "id": "uKFZE7RivfHS",
        "colab": {
          "base_uri": "https://localhost:8080/",
          "height": 281
        },
        "outputId": "fe083cbe-91a6-451d-e117-e1a11913a8ed"
      },
      "execution_count": 9,
      "outputs": [
        {
          "output_type": "display_data",
          "data": {
            "text/plain": [
              "<Figure size 432x288 with 1 Axes>"
            ],
            "image/png": "[encoded data removed]"
          },
          "metadata": {
            "needs_background": "light"
          }
        }
      ]
    },
    {
      "cell_type": "markdown",
      "source": [
        "The implication of a balanced dataset is that a probability model in which $X$ and $Y$ are statistically independent and based purely on estimated marginals, i.e., $\\hat{P}_{XY}(x,y) = \\hat{P}_{X}(x) \\hat{P}_{Y}(y)$, will perform poorly on the training data. This is because any classifier based on the conditional $\\hat{P}_{Y|X}(y|X=x) = \\hat{P}_Y(y)$ is no better than guessing a label uniformly at random. Since such a trivial model performs poorly on the training dataset, we can expect our fitting process to avoid this configuration and produce a model that actually learns some of the dependence structure in the training data. As an aside, if we learn too much from the training dataset, then we are likely to overfit. \n",
        "\n",
        "Conversely, if the dataset was severly unbalanced, then the above trivial model could perform well on the training dataset by just guessing the labels that appear more frequently in the training dataset. Such a model is very easy to learn, but will not generalize beyond the training regime.\n",
        "\n",
        "Note that the model $\\hat{P}_{Y|X}(y|X=x) = \\hat{P}_Y(y)$ is perhaps the simplest model that one can build from the training data. In the context of MNIST, it contains only $10$ parameters -- the empirical probabilities of each of the $10$ class labels. "
      ],
      "metadata": {
        "id": "TCclIFFp92ce"
      }
    },
    {
      "cell_type": "markdown",
      "source": [
        "## Building the Neural Network"
      ],
      "metadata": {
        "id": "Y377_37cKvSV"
      }
    },
    {
      "cell_type": "code",
      "source": [
        "CONV_DIM = 64\n",
        "FC_DIM = 256\n",
        "\n",
        "\n",
        "class ResBlock(nn.Module):\n",
        "    \"\"\"\n",
        "    Residual block with two 3x3 convolutional layers\n",
        "    Padding size 1 to preserve input dimensionality\n",
        "    ReLU nonlinearity\n",
        "    \"\"\"\n",
        "\n",
        "    def __init__(self, indim: int, outdim: int, ksize=3, s=1) -> None:\n",
        "        super().__init__()\n",
        "        #{in,out}dim = number of filters (each of size ksize_in) in the layer\n",
        "\n",
        "\n",
        "        self.conv1 = nn.Conv2d(indim, outdim, kernel_size=ksize, stride=s, padding=1)\n",
        "        self.bn = nn.BatchNorm2d(outdim)\n",
        "        self.relu = nn.ReLU()\n",
        "        self.conv2 = nn.Conv2d(outdim, outdim, kernel_size=ksize, stride=s, padding=1)\n",
        "        \n",
        "    def forward(self, x: torch.Tensor) -> torch.Tensor:\n",
        "        \"\"\".\n",
        "\n",
        "        Inputs\n",
        "        ----------\n",
        "        x\n",
        "            (B, C_in, H_in, W_in) tensor\n",
        "\n",
        "        Outputs\n",
        "        -------\n",
        "        torch.Tensor\n",
        "            (B, C_out, H_out, W_out) tensor\n",
        "        \"\"\"\n",
        "        z = self.conv1(x)  # (B, C_out, H_in, W_in)\n",
        "        z = self.bn(z)     # (B, C_out, H_in, W_in)  \n",
        "        z = self.relu(z)   # (B, C_out, H_in, W_in)\n",
        "        z = self.conv2(z)  # (B, C_out , H_in, W_in) \n",
        "        outs = x+z\n",
        "        return outs\n",
        "\n"
      ],
      "metadata": {
        "id": "ZOaa4NfMKzQ-"
      },
      "execution_count": 10,
      "outputs": []
    },
    {
      "cell_type": "code",
      "source": [
        "class ResNet(nn.Module):\n",
        "    \"\"\"\n",
        "    Simple ResNet for the Rotated MNIST dataset\n",
        "    Recall, the MNIST dataset takes as input (channels, width, height) = (1,28,28) images, i.e., 784 dimensional feature vectors\n",
        "    and has 10 classes (for the digits 0,1,...,9)\n",
        "    \"\"\"\n",
        "\n",
        "    def __init__(self, args: argparse.Namespace = None) -> None:\n",
        "        super().__init__()\n",
        "        self.args = vars(args) if args is not None else {}\n",
        "\n",
        "        #hardwired for MNIST\n",
        "        self.input_height, self.input_width = 28,28 \n",
        "        num_classes = 10\n",
        "\n",
        "        conv_dim = self.args.get(\"conv_dim\", CONV_DIM) #number of filters / channels\n",
        "        fc_dim = self.args.get(\"fc_dim\", FC_DIM)\n",
        "\n",
        "\n",
        "        ## input = (B,C=1,H,W), C=1 as MNIST has just a single channel\n",
        "        self.res1 = ResBlock(1, conv_dim)   \n",
        "        self.res2 = ResBlock(conv_dim, conv_dim)\n",
        "        self.max_pool = nn.MaxPool2d(2)\n",
        "        self.res3 = ResBlock(conv_dim, conv_dim)\n",
        "        self.res4 = ResBlock(conv_dim, conv_dim)\n",
        "        self.res5 = ResBlock(conv_dim, conv_dim)\n",
        "        self.res6 = ResBlock(conv_dim, conv_dim)\n",
        "        self.bn2d = nn.BatchNorm2d(conv_dim)\n",
        "        self.drop = nn.Dropout(0.5)\n",
        "        conv_output_height, conv_output_width = self.input_height // 4, self.input_width // 4\n",
        "        self.flatten = nn.Flatten()\n",
        "        fc_input_dim = int(conv_output_height * conv_output_width * conv_dim)\n",
        "        self.fc1 = nn.Linear(fc_input_dim, fc_dim)\n",
        "        self.bn1d = nn.BatchNorm1d(fc_dim)\n",
        "        self.fc2 = nn.Linear(fc_dim, num_classes)\n",
        "        self.relu = nn.ReLU()\n",
        "\n",
        "        #adjust inits\n",
        "        with torch.no_grad():\n",
        "          self.fc2.weight *= 0.001\n",
        "          self.fc2.bias *= 0.001\n",
        "        \n",
        "\n",
        "    def forward(self, x: torch.Tensor) -> torch.Tensor:\n",
        "        \"\"\"\n",
        "        Parameters\n",
        "        ----------\n",
        "        x\n",
        "            (B, Ch, H, W) tensor, where H and W must equal input height and width from data_config.\n",
        "\n",
        "        Returns\n",
        "        -------\n",
        "        torch.Tensor\n",
        "            (B, Classes) tensor\n",
        "        \"\"\"\n",
        "        B, C, H, W = x.shape\n",
        "        x = self.res1(x)      # (B, CONV_DIM, H, W)\n",
        "        x = self.res2(x)      # (B, CONV_DIM, H, W)\n",
        "        x = self.max_pool(x)  # (B, CONV_DIM, H // 2, W // 2)\n",
        "        x = self.drop(x)\n",
        "        x = self.res3(x)      # (B, CONV_DIM, H // 2, W // 2)\n",
        "        x = self.res4(x)      # (B, CONV_DIM, H // 2, W // 2)\n",
        "        x = self.max_pool(x)  # (B, CONV_DIM, H // 4, W // 4)\n",
        "        x = self.drop(x)\n",
        "        x = self.res5(x)      # (B, CONV_DIM, H // 4, W // 4)\n",
        "        x = self.res6(x)      # (B, CONV_DIM, H // 4, W // 4)\n",
        "        x = self.bn2d(x)\n",
        "        x = self.relu(x)\n",
        "        x = self.flatten(x)   # (B, CONV_DIM * H // 4 * W // 4)\n",
        "        x = self.fc1(x)       # (B, FC_DIM)\n",
        "        x = self.bn1d(x)      # (B, FC_DIM)\n",
        "        x = self.relu(x)      # (B, FC_DIM)\n",
        "        x = self.fc2(x)       # (B, Classes)\n",
        "        return x"
      ],
      "metadata": {
        "id": "2W1NpVp2K3v7"
      },
      "execution_count": 33,
      "outputs": []
    },
    {
      "cell_type": "code",
      "source": [
        "def accuracy(out: torch.Tensor, yb: torch.Tensor) -> torch.Tensor:\n",
        "    preds = torch.argmax(out, dim=1) \n",
        "    return (preds == yb).float().mean() #converts from 0-1 bool to float and then averages = the fraction of correct classifications. "
      ],
      "metadata": {
        "id": "k78Y2eTdLHKQ"
      },
      "execution_count": 34,
      "outputs": []
    },
    {
      "cell_type": "code",
      "source": [
        "def fit(net: nn.Module, config_opt: Dict[str, Any]) -> List:\n",
        "  train_dataloader = config_opt['train_dataloader']\n",
        "  val_dataloader = config_opt['val_dataloader']\n",
        "  epochs = config_opt['epochs']\n",
        "  lr = config_opt['lr']\n",
        "  wd = config_opt['wd']\n",
        "  gm = config_opt['lr_gamma']\n",
        "  loss_func = F.cross_entropy\n",
        "\n",
        "  optimizer = torch.optim.Adam(net.parameters(), lr=lr, weight_decay=wd)\n",
        "  scheduler = torch.optim.lr_scheduler.ExponentialLR(optimizer, gamma = gm)\n",
        "  \n",
        "  valiter = iter(val_dataloader)\n",
        "  net.train()\n",
        "  iters = 0\n",
        "  outfreq = 100\n",
        "  lossi=[]\n",
        "\n",
        "  for p in net.parameters():\n",
        "    p.requires_grad = True\n",
        "\n",
        "  for epoch in range(epochs):\n",
        "    for xb, yb in train_dataloader:\n",
        "      # xb = (B, 28*28), yb = (B,)\n",
        "      xb.unsqueeze(1) #unsqueezing in a channel dimension\n",
        "      xb = xb.view(-1,1,28,28)\n",
        "      yb = yb.long()\n",
        "      \n",
        "      logits = net(xb)\n",
        "      loss = loss_func(logits, yb)\n",
        "\n",
        "      loss.backward()\n",
        "      optimizer.step()\n",
        "      optimizer.zero_grad()\n",
        "\n",
        "      # tracking\n",
        "      lossi.append(loss.log10().item())\n",
        "\n",
        "      # outputs\n",
        "      if iters % outfreq == 0:\n",
        "        with torch.no_grad():\n",
        "\n",
        "          try:\n",
        "            xv,yv = next(valiter)\n",
        "          except StopIteration:\n",
        "            valiter = iter(val_dataloader)\n",
        "            xv,yv = next(valiter)\n",
        "          \n",
        "          xv.unsqueeze(1) #unsqueezing in a channel dimension\n",
        "          xv = xv.view(-1,1,28,28)\n",
        "          yv = yv.long()\n",
        "\n",
        "          net.eval()\n",
        "          logitsv = net(xv)\n",
        "          net.train()\n",
        "          lossv = loss_func(logitsv,yv)\n",
        "          accv = accuracy(logitsv, yv)\n",
        "          acctr = accuracy(logits, yb)\n",
        "          print(f'iter {iters:7d} | epoch {epoch:2d} | loss  {loss.item():.4f} (val: {lossv.item():.4f}) | acc {acctr:.4f} (val: {accv:.4f}) | lr {scheduler.get_last_lr()[-1]:e}') \n",
        "      \n",
        "      iters +=1\n",
        "\n",
        "    scheduler.step()\n",
        "\n",
        "  torch.save({\n",
        "            'model_state_dict': net.state_dict(),\n",
        "            'optimizer_state_dict': optimizer.state_dict(),\n",
        "            'loss': lossi,\n",
        "            }, 'model.pt')\n",
        "\n",
        "  return lossi"
      ],
      "metadata": {
        "id": "BJZHymDwL7WJ"
      },
      "execution_count": 66,
      "outputs": []
    },
    {
      "cell_type": "code",
      "source": [
        "model = ResNet()\n",
        "print(sum(p.nelement() for p in model.parameters()))"
      ],
      "metadata": {
        "id": "n9n4nk1_zC0F",
        "colab": {
          "base_uri": "https://localhost:8080/"
        },
        "outputId": "4b96f131-dc43-4a01-9b8c-c4629c1f07ae"
      },
      "execution_count": 67,
      "outputs": [
        {
          "output_type": "stream",
          "name": "stdout",
          "text": [
            "1213898\n"
          ]
        }
      ]
    },
    {
      "cell_type": "code",
      "source": [
        "train_dl = dm.train_dataloader()\n",
        "val_dl = dm.val_dataloader()\n",
        "opts = {'epochs': 20, 'train_dataloader': train_dl, 'val_dataloader': val_dl, 'lr': 1e-2, 'lr_gamma': 0.7, 'wd': 1e-4}\n",
        "lossi = fit(model, opts)"
      ],
      "metadata": {
        "id": "y4i8tgu0lmiT",
        "colab": {
          "base_uri": "https://localhost:8080/"
        },
        "outputId": "b9ef2817-3246-4450-cfb2-442a8b1b4834"
      },
      "execution_count": 68,
      "outputs": [
        {
          "output_type": "stream",
          "name": "stdout",
          "text": [
            "iter       0 | epoch  0 | loss  2.3025 (val: 2.9856) | acc 0.0312 (val: 0.1875) | lr 1.000000e-02\n",
            "iter     100 | epoch  0 | loss  1.6587 (val: 1.8797) | acc 0.4375 (val: 0.2917) | lr 1.000000e-02\n",
            "iter     200 | epoch  0 | loss  1.4030 (val: 1.3290) | acc 0.5000 (val: 0.5104) | lr 1.000000e-02\n",
            "iter     300 | epoch  1 | loss  1.3336 (val: 1.4317) | acc 0.5938 (val: 0.6042) | lr 7.000000e-03\n",
            "iter     400 | epoch  1 | loss  1.0604 (val: 1.0512) | acc 0.6562 (val: 0.6146) | lr 7.000000e-03\n",
            "iter     500 | epoch  1 | loss  0.6522 (val: 0.9033) | acc 0.7812 (val: 0.7292) | lr 7.000000e-03\n",
            "iter     600 | epoch  2 | loss  0.7578 (val: 0.7651) | acc 0.7812 (val: 0.7604) | lr 4.900000e-03\n",
            "iter     700 | epoch  2 | loss  0.3729 (val: 0.7162) | acc 0.9062 (val: 0.7188) | lr 4.900000e-03\n",
            "iter     800 | epoch  2 | loss  0.6480 (val: 0.6536) | acc 0.8125 (val: 0.8438) | lr 4.900000e-03\n",
            "iter     900 | epoch  3 | loss  0.4291 (val: 0.8505) | acc 0.8750 (val: 0.7083) | lr 3.430000e-03\n",
            "iter    1000 | epoch  3 | loss  0.5778 (val: 0.6129) | acc 0.7812 (val: 0.7917) | lr 3.430000e-03\n",
            "iter    1100 | epoch  3 | loss  0.6002 (val: 0.5575) | acc 0.8125 (val: 0.8229) | lr 3.430000e-03\n",
            "iter    1200 | epoch  4 | loss  0.4589 (val: 0.6064) | acc 0.8125 (val: 0.8438) | lr 2.401000e-03\n",
            "iter    1300 | epoch  4 | loss  0.3534 (val: 0.4326) | acc 0.8438 (val: 0.8542) | lr 2.401000e-03\n",
            "iter    1400 | epoch  4 | loss  0.3319 (val: 0.5626) | acc 0.9062 (val: 0.8125) | lr 2.401000e-03\n",
            "iter    1500 | epoch  5 | loss  0.3243 (val: 0.4753) | acc 0.8750 (val: 0.8125) | lr 1.680700e-03\n",
            "iter    1600 | epoch  5 | loss  0.1725 (val: 0.3203) | acc 1.0000 (val: 0.9271) | lr 1.680700e-03\n",
            "iter    1700 | epoch  5 | loss  0.2848 (val: 0.4698) | acc 0.9062 (val: 0.8438) | lr 1.680700e-03\n",
            "iter    1800 | epoch  6 | loss  0.2830 (val: 0.3571) | acc 0.9375 (val: 0.8646) | lr 1.176490e-03\n",
            "iter    1900 | epoch  6 | loss  0.3280 (val: 0.4001) | acc 0.9062 (val: 0.8750) | lr 1.176490e-03\n",
            "iter    2000 | epoch  6 | loss  0.1899 (val: 0.3596) | acc 0.9375 (val: 0.8438) | lr 1.176490e-03\n",
            "iter    2100 | epoch  7 | loss  0.3200 (val: 0.6334) | acc 0.9062 (val: 0.7917) | lr 8.235430e-04\n",
            "iter    2200 | epoch  7 | loss  0.1757 (val: 0.5755) | acc 1.0000 (val: 0.8229) | lr 8.235430e-04\n",
            "iter    2300 | epoch  7 | loss  0.1268 (val: 0.4366) | acc 0.9688 (val: 0.8958) | lr 8.235430e-04\n",
            "iter    2400 | epoch  8 | loss  0.2780 (val: 0.5130) | acc 0.8750 (val: 0.8646) | lr 5.764801e-04\n",
            "iter    2500 | epoch  8 | loss  0.2963 (val: 0.3458) | acc 0.9062 (val: 0.8958) | lr 5.764801e-04\n",
            "iter    2600 | epoch  8 | loss  0.2228 (val: 0.4993) | acc 0.9375 (val: 0.7917) | lr 5.764801e-04\n",
            "iter    2700 | epoch  9 | loss  0.2397 (val: 0.4990) | acc 0.8750 (val: 0.8333) | lr 4.035361e-04\n",
            "iter    2800 | epoch  9 | loss  0.1767 (val: 0.4377) | acc 0.9688 (val: 0.8854) | lr 4.035361e-04\n",
            "iter    2900 | epoch  9 | loss  0.1905 (val: 0.3562) | acc 0.9688 (val: 0.8542) | lr 4.035361e-04\n",
            "iter    3000 | epoch 10 | loss  0.2340 (val: 0.3169) | acc 0.9375 (val: 0.8854) | lr 2.824752e-04\n",
            "iter    3100 | epoch 10 | loss  0.1199 (val: 0.3461) | acc 0.9688 (val: 0.8646) | lr 2.824752e-04\n",
            "iter    3200 | epoch 10 | loss  0.1820 (val: 0.4934) | acc 0.9375 (val: 0.8125) | lr 2.824752e-04\n",
            "iter    3300 | epoch 11 | loss  0.0775 (val: 0.3937) | acc 1.0000 (val: 0.8750) | lr 1.977327e-04\n",
            "iter    3400 | epoch 11 | loss  0.0608 (val: 0.3652) | acc 1.0000 (val: 0.9062) | lr 1.977327e-04\n",
            "iter    3500 | epoch 11 | loss  0.0969 (val: 0.4780) | acc 0.9688 (val: 0.8646) | lr 1.977327e-04\n",
            "iter    3600 | epoch 12 | loss  0.1021 (val: 0.3072) | acc 1.0000 (val: 0.8958) | lr 1.384129e-04\n",
            "iter    3700 | epoch 12 | loss  0.1719 (val: 0.3232) | acc 0.9688 (val: 0.9062) | lr 1.384129e-04\n",
            "iter    3800 | epoch 12 | loss  0.1133 (val: 0.2431) | acc 0.9375 (val: 0.9271) | lr 1.384129e-04\n",
            "iter    3900 | epoch 13 | loss  0.0772 (val: 0.4020) | acc 0.9688 (val: 0.9062) | lr 9.688901e-05\n",
            "iter    4000 | epoch 13 | loss  0.0661 (val: 0.4092) | acc 1.0000 (val: 0.8438) | lr 9.688901e-05\n",
            "iter    4100 | epoch 13 | loss  0.0956 (val: 0.2930) | acc 0.9688 (val: 0.9167) | lr 9.688901e-05\n",
            "iter    4200 | epoch 14 | loss  0.1688 (val: 0.3697) | acc 0.9688 (val: 0.9062) | lr 6.782231e-05\n",
            "iter    4300 | epoch 14 | loss  0.1019 (val: 0.2014) | acc 1.0000 (val: 0.9375) | lr 6.782231e-05\n",
            "iter    4400 | epoch 14 | loss  0.0868 (val: 0.3608) | acc 1.0000 (val: 0.8646) | lr 6.782231e-05\n",
            "iter    4500 | epoch 15 | loss  0.0837 (val: 0.2761) | acc 0.9688 (val: 0.8854) | lr 4.747562e-05\n",
            "iter    4600 | epoch 15 | loss  0.1174 (val: 0.5235) | acc 0.9375 (val: 0.8646) | lr 4.747562e-05\n",
            "iter    4700 | epoch 15 | loss  0.0839 (val: 0.5594) | acc 0.9688 (val: 0.8125) | lr 4.747562e-05\n",
            "iter    4800 | epoch 16 | loss  0.0664 (val: 0.4514) | acc 0.9688 (val: 0.9062) | lr 3.323293e-05\n",
            "iter    4900 | epoch 16 | loss  0.2034 (val: 0.4698) | acc 0.9375 (val: 0.8854) | lr 3.323293e-05\n",
            "iter    5000 | epoch 16 | loss  0.1003 (val: 0.3286) | acc 0.9688 (val: 0.9271) | lr 3.323293e-05\n",
            "iter    5100 | epoch 17 | loss  0.0975 (val: 0.4084) | acc 0.9688 (val: 0.8542) | lr 2.326305e-05\n",
            "iter    5200 | epoch 17 | loss  0.2236 (val: 0.5191) | acc 0.8750 (val: 0.8333) | lr 2.326305e-05\n",
            "iter    5300 | epoch 17 | loss  0.0876 (val: 0.4611) | acc 0.9688 (val: 0.8958) | lr 2.326305e-05\n",
            "iter    5400 | epoch 18 | loss  0.1139 (val: 0.3455) | acc 0.9688 (val: 0.8646) | lr 1.628414e-05\n",
            "iter    5500 | epoch 18 | loss  0.0483 (val: 0.3396) | acc 1.0000 (val: 0.8854) | lr 1.628414e-05\n",
            "iter    5600 | epoch 18 | loss  0.1045 (val: 0.3244) | acc 0.9688 (val: 0.8750) | lr 1.628414e-05\n",
            "iter    5700 | epoch 19 | loss  0.1242 (val: 0.4746) | acc 0.9375 (val: 0.8229) | lr 1.139890e-05\n",
            "iter    5800 | epoch 19 | loss  0.0456 (val: 0.3580) | acc 1.0000 (val: 0.8854) | lr 1.139890e-05\n",
            "iter    5900 | epoch 19 | loss  0.3033 (val: 0.3742) | acc 0.9062 (val: 0.9167) | lr 1.139890e-05\n"
          ]
        }
      ]
    },
    {
      "cell_type": "code",
      "source": [
        "#so far, the best model seems to have a validation accuracy of around 0.9 (on a chosen batch)\n",
        "plt.plot(torch.tensor(lossi).view(-1,100).mean(dim=1)) "
      ],
      "metadata": {
        "id": "34KIMuFIMybW",
        "colab": {
          "base_uri": "https://localhost:8080/",
          "height": 283
        },
        "outputId": "dd5b5b08-ff65-44b5-999b-836b8669f583"
      },
      "execution_count": 69,
      "outputs": [
        {
          "output_type": "execute_result",
          "data": {
            "text/plain": [
              "[<matplotlib.lines.Line2D at 0x7fe7f56c86d0>]"
            ]
          },
          "metadata": {},
          "execution_count": 69
        },
        {
          "output_type": "display_data",
          "data": {
            "text/plain": [
              "<Figure size 432x288 with 1 Axes>"
            ],
            "image/png": "[encoded data removed]"
          },
          "metadata": {
            "needs_background": "light"
          }
        }
      ]
    },
    {
      "cell_type": "code",
      "source": [
        "@torch.no_grad()\n",
        "def performance(net: nn.Module, datamodule: MNISTDataModule):\n",
        "  metrics = {'train': {}, 'val': {}, 'test': {}}\n",
        "\n",
        "  #colab crashes due to limited RAM on the full test set, so we will reduce the test set to the training size\n",
        "  # ds = {'train': (datamodule.train_ds.x, datamodule.train_ds.y),\n",
        "  #       'val': (datamodule.valid_ds.x, datamodule.valid_ds.y),\n",
        "  #       'test': (datamodule.test_ds.x, datamodule.test_ds.y)}\n",
        "  ds = {'train': (datamodule.train_ds.x, datamodule.train_ds.y),\n",
        "      'val': (datamodule.valid_ds.x, datamodule.valid_ds.y)}\n",
        "  train_length = ds['train'][0].shape[0] \n",
        "  ds['test'] = (datamodule.test_ds.x[:train_length], datamodule.test_ds.y[:train_length])\n",
        "\n",
        "  net.eval()\n",
        "  for key,data in ds.items():\n",
        "    x = data[0].unsqueeze(1)\n",
        "    y = data[1].long()\n",
        "    x = x.view(-1,1,28,28)\n",
        "    logits = net(x)\n",
        "    loss = F.cross_entropy(logits, y)\n",
        "    acc = accuracy(logits, y) \n",
        "    metrics[key] = {'loss': loss.item(), 'acc': acc.item()}\n",
        "  return metrics\n",
        "\n",
        "\n",
        "perf = performance(model, dm)"
      ],
      "metadata": {
        "id": "Ius5Z7Tq33kY"
      },
      "execution_count": 70,
      "outputs": []
    },
    {
      "cell_type": "code",
      "source": [
        "print(perf)"
      ],
      "metadata": {
        "colab": {
          "base_uri": "https://localhost:8080/"
        },
        "id": "HZOMtoVHvniH",
        "outputId": "d19ad9a0-8105-4321-f870-3fdd080084a0"
      },
      "execution_count": 71,
      "outputs": [
        {
          "output_type": "stream",
          "name": "stdout",
          "text": [
            "{'train': {'loss': 0.0380949042737484, 'acc': 0.995312511920929}, 'val': {'loss': 0.3831508159637451, 'acc': 0.8824999928474426}, 'test': {'loss': 0.3843288719654083, 'acc': 0.8797916769981384}}\n"
          ]
        }
      ]
    },
    {
      "cell_type": "code",
      "source": [
        "## let's look at some example predictions from the test dataset\n",
        "Xte, yte = dm.test_ds.x, dm.test_ds.y\n",
        "\n",
        "model.eval()\n",
        "\n",
        "Xte = Xte[:32].unsqueeze(1)\n",
        "yte = yte[:32].long()\n",
        "Xte = Xte.view(-1,1,28,28)\n",
        "logits = model(Xte) # (B, num_classes)\n",
        "ypred = torch.argmax(logits, dim=1) #(B,) \n",
        "\n",
        "Xte = Xte.squeeze(1)\n",
        "fig, ax = plt.subplots(figsize=(15, 5), nrows=2, ncols=5)\n",
        "i = 0\n",
        "for row in ax:\n",
        "    for col in row:\n",
        "        col.imshow(Xte[i].reshape(28,28), cmap='Greys')\n",
        "        col.set_title(f'pred = {ypred[i].item():} (actual = {yte[i].item()})')\n",
        "        col.set_axis_off()\n",
        "        i+=1\n",
        "\n",
        "plt.show()"
      ],
      "metadata": {
        "id": "fQLdUpqlptgL",
        "colab": {
          "base_uri": "https://localhost:8080/",
          "height": 319
        },
        "outputId": "77225410-0359-4b31-f19a-115a17383ab3"
      },
      "execution_count": 72,
      "outputs": [
        {
          "output_type": "display_data",
          "data": {
            "text/plain": [
              "<Figure size 1080x360 with 10 Axes>"
            ],
            "image/png": "[encoded data removed]"
          },
          "metadata": {
            "needs_background": "light"
          }
        }
      ]
    },
    {
      "cell_type": "code",
      "source": [
        "## Now let's focus on mistakes made by the model. What are the modes of failure?\n",
        "\n",
        "Xte, yte = dm.test_ds.x, dm.test_ds.y\n",
        "model.eval()\n",
        "\n",
        "Xte = Xte[:1000].unsqueeze(1)\n",
        "yte = yte[:1000].long()\n",
        "Xte = Xte.view(-1,1,28,28)\n",
        "logits = model(Xte) # (B, num_classes)\n",
        "ypred = torch.argmax(logits, dim=1) #(B,) \n",
        "\n",
        "fails = (ypred != yte).nonzero()\n",
        "\n",
        "Xfail = Xte[fails].squeeze(1)\n",
        "yfail = ypred[fails]\n",
        "ytrue = yte[fails]\n",
        "\n",
        "fig, ax = plt.subplots(figsize=(15, 5), nrows=2, ncols=5)\n",
        "i = 0\n",
        "for row in ax:\n",
        "    for col in row:\n",
        "        col.imshow(Xfail[i].reshape(28,28), cmap='Greys')\n",
        "        col.set_title(f'pred = {yfail[i].item():} (actual = {ytrue[i].item()})')\n",
        "        col.set_axis_off()\n",
        "        i+=1\n"
      ],
      "metadata": {
        "colab": {
          "base_uri": "https://localhost:8080/",
          "height": 319
        },
        "id": "kC9rnnbALkY9",
        "outputId": "486e9d9e-8f46-46cd-d06e-3d259dd57956"
      },
      "execution_count": 88,
      "outputs": [
        {
          "output_type": "display_data",
          "data": {
            "text/plain": [
              "<Figure size 1080x360 with 10 Axes>"
            ],
            "image/png": "[encoded data removed]"
          },
          "metadata": {
            "needs_background": "light"
          }
        }
      ]
    },
    {
      "cell_type": "markdown",
      "source": [
        "Many of these failure modes are understandable. Several of the above cases appear beyond human recognition -- these images don't seem to share any commonality with other members of their class. Moreover, at least one of the images appears mislabeled. \n",
        "\n",
        "Other errors, such as the model mislabeling 8s as 0s. These errors are fixable."
      ],
      "metadata": {
        "id": "16U0cW54b___"
      }
    },
    {
      "cell_type": "markdown",
      "source": [
        "There are many follow up questions that one may ask. For example, we may wish to understand what features are being picked up by the convolutional filters in each layer. Moreover, it would be interesting to look at how diverse the filters are in the same layer. I plan to add this later.\n",
        "\n",
        "One question that I think is interesting is as follows. This corrupted version of the MNIST dataset is derived from the basic MNIST dataset. Of course, the differences are that the digits have been rotated and overlayed over textured backgrounds. In an accompanying notebook, we saw that the above model architecture can get $>98\\%$ accuracy quite easily, which I guess is typical for these problems. Will our current model -- trained on a corrupted version of MNIST -- perform well on the original MNIST? "
      ],
      "metadata": {
        "id": "1nIUwnhKg-pa"
      }
    },
    {
      "cell_type": "code",
      "source": [
        "# Downloading original MNIST, note the normalization is the same as with the corrupted MNIST\n",
        "url = \"http://www.iro.umontreal.ca/~lisa/icml2007data/\"\n",
        "filename = \"mnist.zip\"\n",
        "dir = \"/content/data1\"\n",
        "path = dir+'/'+filename\n",
        "\n",
        "if not os.path.exists(dir):\n",
        "  os.mkdir(dir)\n",
        "if not os.path.exists(path):\n",
        "  content = requests.get(url + filename).content\n",
        "  with open(path, \"wb\") as f:\n",
        "    f.write(content)\n",
        "with zipfile.ZipFile(path) as f:\n",
        "  f.extractall(path=dir)\n",
        "\n",
        "with open(dir+'/mnist_test.amat', 'r') as f1:\n",
        "  ds_te = [[float(a) for a in line.split()] for line in f1]\n",
        "with open(dir+'/mnist_train.amat', 'r') as f2:\n",
        "  ds_tr_val = [[float(a) for a in line.split()]  for line in f2]\n",
        "  \n",
        "ds_te, ds_tr_val = map(torch.tensor, (ds_te, ds_tr_val))\n",
        "\n",
        "# hardwired 80%-20% split into training and validation\n",
        "n1 = int(0.8*ds_tr_val.shape[0])\n",
        "\n",
        "Xtr, ytr = ds_tr_val[:n1,:-1], ds_tr_val[:n1,-1]\n",
        "# Xval, yval = ds_tr_val[n1:,:-1], ds_tr_val[n1:,-1]\n",
        "# Xte, yte = ds_te[:,:-1], ds_te[:,-1]"
      ],
      "metadata": {
        "id": "ag7J-A9bj2lb"
      },
      "execution_count": 89,
      "outputs": []
    },
    {
      "cell_type": "code",
      "source": [
        "# Let's just test on the MNIST training points\n",
        "Xtr = Xtr.unsqueeze(1)\n",
        "ytr = Ytr.long()\n",
        "Xtr = Xtr.view(-1,1,28,28)\n",
        "logits = model(Xtr) # (B, num_classes)\n",
        "acc = accuracy(logits, ytr)\n",
        "\n",
        "print(f'acc {acc.item():.4f}')"
      ],
      "metadata": {
        "id": "bVWVYHEfml5E"
      },
      "execution_count": null,
      "outputs": []
    }
  ]
}